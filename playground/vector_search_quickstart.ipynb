{
 "cells": [
  {
   "cell_type": "code",
   "execution_count": null,
   "id": "5483fddd-ed9f-4e30-9bfc-4fdc7030a7ec",
   "metadata": {
    "tags": []
   },
   "outputs": [],
   "source": [
    "!pip install --upgrade --user google-cloud-aiplatform>=1.29.0 google-cloud-storage"
   ]
  },
  {
   "cell_type": "code",
   "execution_count": 2,
   "id": "e6d3bab1-1f91-4e4b-b335-32e2667fa257",
   "metadata": {
    "tags": []
   },
   "outputs": [
    {
     "data": {
      "text/plain": [
       "{'status': 'ok', 'restart': True}"
      ]
     },
     "execution_count": 2,
     "metadata": {},
     "output_type": "execute_result"
    }
   ],
   "source": [
    "# Restart kernel after installs so that your environment can access the new packages\n",
    "import IPython\n",
    "\n",
    "app = IPython.Application.instance()\n",
    "app.kernel.do_shutdown(True)"
   ]
  },
  {
   "cell_type": "code",
   "execution_count": 1,
   "id": "d2e9cba0-2064-4629-8734-e67daa250ce2",
   "metadata": {
    "tags": []
   },
   "outputs": [],
   "source": [
    "# get project ID\n",
    "PROJECT_ID = ! gcloud config get-value project\n",
    "PROJECT_ID = PROJECT_ID[0]\n",
    "LOCATION = \"us-central1\"\n",
    "if PROJECT_ID == \"(unset)\":\n",
    "    print(f\"Please set the project ID manually below\")"
   ]
  },
  {
   "cell_type": "code",
   "execution_count": 2,
   "id": "eb96edef-a8ee-41d1-bb9b-1f7fc42b6a25",
   "metadata": {
    "tags": []
   },
   "outputs": [],
   "source": [
    "# define project information\n",
    "if PROJECT_ID == \"(unset)\":\n",
    "  PROJECT_ID = \"[your-project-id]\"\n",
    "\n",
    "# generate a unique id for this session\n",
    "from datetime import datetime\n",
    "UID = datetime.now().strftime(\"%m%d%H%M\")"
   ]
  },
  {
   "cell_type": "code",
   "execution_count": 3,
   "id": "f807979e-02eb-485f-9e0b-67368a4eafec",
   "metadata": {
    "tags": []
   },
   "outputs": [
    {
     "name": "stdout",
     "output_type": "stream",
     "text": [
      "Operation \"operations/acat.p2-26258447032-578c8f96-32a8-41a3-82a6-3e629d06f976\" finished successfully.\n"
     ]
    }
   ],
   "source": [
    "! gcloud services enable compute.googleapis.com aiplatform.googleapis.com storage.googleapis.com --project {PROJECT_ID}"
   ]
  },
  {
   "cell_type": "code",
   "execution_count": 4,
   "id": "21786e1a-3910-4387-8454-22da9b01fc92",
   "metadata": {
    "tags": []
   },
   "outputs": [],
   "source": [
    "BUCKET_URI = f\"gs://{PROJECT_ID}-vs-quickstart-{UID}\""
   ]
  },
  {
   "cell_type": "code",
   "execution_count": 5,
   "id": "4ed0abf7-dd7c-4579-a8b7-5db6a431e684",
   "metadata": {
    "tags": []
   },
   "outputs": [
    {
     "name": "stdout",
     "output_type": "stream",
     "text": [
      "Creating gs://vertex-ai-poc-416620-vs-quickstart-03082027/...\n",
      "Copying gs://github-repo/data/vs-quickstart/product-embs.json [Content-Type=application/json]...\n",
      "- [1 files][ 79.3 MiB/ 79.3 MiB]                                                \n",
      "Operation completed over 1 objects/79.3 MiB.                                     \n"
     ]
    }
   ],
   "source": [
    "! gsutil mb -l $LOCATION -p $PROJECT_ID $BUCKET_URI\n",
    "! gsutil cp \"gs://github-repo/data/vs-quickstart/product-embs.json\" $BUCKET_URI"
   ]
  },
  {
   "cell_type": "code",
   "execution_count": 6,
   "id": "a18c9c10-67b1-4d07-ab44-b1aab30eecf7",
   "metadata": {
    "tags": []
   },
   "outputs": [
    {
     "name": "stdout",
     "output_type": "stream",
     "text": [
      "Copying gs://github-repo/data/vs-quickstart/product-embs.json...\n",
      "- [1 files][ 79.3 MiB/ 79.3 MiB]                                                \n",
      "Operation completed over 1 objects/79.3 MiB.                                     \n"
     ]
    }
   ],
   "source": [
    "! gsutil cp \"gs://github-repo/data/vs-quickstart/product-embs.json\" . # for query tests"
   ]
  },
  {
   "cell_type": "code",
   "execution_count": 7,
   "id": "e095c025-725f-441f-a74b-631e0a95b87c",
   "metadata": {
    "tags": []
   },
   "outputs": [],
   "source": [
    "# init the aiplatform package\n",
    "from google.cloud import aiplatform\n",
    "aiplatform.init(project=PROJECT_ID, location=LOCATION)"
   ]
  },
  {
   "cell_type": "code",
   "execution_count": 8,
   "id": "7e164e3a-21f2-44a6-9c3c-0ea4d4e3861b",
   "metadata": {
    "tags": []
   },
   "outputs": [
    {
     "name": "stdout",
     "output_type": "stream",
     "text": [
      "Creating MatchingEngineIndex\n",
      "Create MatchingEngineIndex backing LRO: projects/26258447032/locations/us-central1/indexes/3487444175119450112/operations/4925508661586952192\n",
      "MatchingEngineIndex created. Resource name: projects/26258447032/locations/us-central1/indexes/3487444175119450112\n",
      "To use this MatchingEngineIndex in another session:\n",
      "index = aiplatform.MatchingEngineIndex('projects/26258447032/locations/us-central1/indexes/3487444175119450112')\n"
     ]
    }
   ],
   "source": [
    "# create Index\n",
    "my_index = aiplatform.MatchingEngineIndex.create_tree_ah_index(\n",
    "    display_name = f\"vs-quickstart-index-{UID}\",\n",
    "    contents_delta_uri = BUCKET_URI,\n",
    "    dimensions = 768,\n",
    "    approximate_neighbors_count = 10,\n",
    ")"
   ]
  },
  {
   "cell_type": "code",
   "execution_count": 9,
   "id": "db5652a1-ec41-4116-ac35-3fffff811a18",
   "metadata": {
    "tags": []
   },
   "outputs": [
    {
     "name": "stdout",
     "output_type": "stream",
     "text": [
      "Creating MatchingEngineIndexEndpoint\n",
      "Create MatchingEngineIndexEndpoint backing LRO: projects/26258447032/locations/us-central1/indexEndpoints/4912833457182212096/operations/7420502855150206976\n",
      "MatchingEngineIndexEndpoint created. Resource name: projects/26258447032/locations/us-central1/indexEndpoints/4912833457182212096\n",
      "To use this MatchingEngineIndexEndpoint in another session:\n",
      "index_endpoint = aiplatform.MatchingEngineIndexEndpoint('projects/26258447032/locations/us-central1/indexEndpoints/4912833457182212096')\n"
     ]
    }
   ],
   "source": [
    "## create `IndexEndpoint`\n",
    "my_index_endpoint = aiplatform.MatchingEngineIndexEndpoint.create(\n",
    "    display_name = f\"vs-quickstart-index-endpoint-{UID}\",\n",
    "    public_endpoint_enabled = True\n",
    ")"
   ]
  },
  {
   "cell_type": "code",
   "execution_count": 10,
   "id": "260af2c5-2b79-4185-8baf-411cc1968837",
   "metadata": {
    "tags": []
   },
   "outputs": [],
   "source": [
    "DEPLOYED_INDEX_ID = f\"vs_quickstart_deployed_{UID}\""
   ]
  },
  {
   "cell_type": "code",
   "execution_count": null,
   "id": "59d10b2f-027e-4b18-9d31-87dd51d88ba1",
   "metadata": {
    "tags": []
   },
   "outputs": [
    {
     "name": "stdout",
     "output_type": "stream",
     "text": [
      "Deploying index MatchingEngineIndexEndpoint index_endpoint: projects/26258447032/locations/us-central1/indexEndpoints/4912833457182212096\n",
      "Deploy index MatchingEngineIndexEndpoint index_endpoint backing LRO: projects/26258447032/locations/us-central1/indexEndpoints/4912833457182212096/operations/7482427350026551296\n"
     ]
    }
   ],
   "source": [
    "# deploy the Index to the Index Endpoint\n",
    "my_index_endpoint.deploy_index(\n",
    "    index = my_index, deployed_index_id = DEPLOYED_INDEX_ID\n",
    ")"
   ]
  },
  {
   "cell_type": "code",
   "execution_count": 12,
   "id": "05dc8e57-21f0-4fe3-ac34-fdb0b1c6965d",
   "metadata": {},
   "outputs": [],
   "source": [
    "import json\n",
    "\n",
    "# build dicts for product names and embs\n",
    "product_names = {}\n",
    "product_embs = {}\n",
    "with open('product-embs.json') as f:\n",
    "    for l in f.readlines():\n",
    "        p = json.loads(l)\n",
    "        id = p['id']\n",
    "        product_names[id] = p['name']\n",
    "        product_embs[id] = p['embedding']"
   ]
  },
  {
   "cell_type": "code",
   "execution_count": 14,
   "id": "f058bee7-f15b-43b9-9503-a5bd4a56a47b",
   "metadata": {
    "tags": []
   },
   "outputs": [],
   "source": [
    " # Get the embedding for ID 6523 \"cloudveil women's excursion short\"\n",
    "query_emb = product_embs['6523']"
   ]
  },
  {
   "cell_type": "code",
   "execution_count": 15,
   "id": "81b94757-d8e8-4fba-a976-1aeb50300ec8",
   "metadata": {
    "tags": []
   },
   "outputs": [
    {
     "name": "stdout",
     "output_type": "stream",
     "text": [
      "1.00 cloudveil women's excursion short\n",
      "0.82 quiksilver womens cruiser short\n",
      "0.80 xcvi women's alisal short\n",
      "0.80 cloudveil men's kahuna short\n",
      "0.78 ibex women's gozo short\n",
      "0.78 sanctuary clothing women's coquette short\n",
      "0.78 sunner women's collins printed short\n",
      "0.77 hurley lowrider cargo 2.5 short - women's\n",
      "0.77 stitch's women's fox knee length short\n",
      "0.77 sanctuary clothing women's passenger skirt\n"
     ]
    }
   ],
   "source": [
    "# run query\n",
    "response = my_index_endpoint.find_neighbors(\n",
    "    deployed_index_id = DEPLOYED_INDEX_ID,\n",
    "    queries = [query_emb],\n",
    "    num_neighbors = 10\n",
    ")\n",
    "\n",
    "# show the results\n",
    "for idx, neighbor in enumerate(response[0]):\n",
    "    print(f\"{neighbor.distance:.2f} {product_names[neighbor.id]}\")"
   ]
  },
  {
   "cell_type": "code",
   "execution_count": 16,
   "id": "d8ac8fd3-b82a-4d28-b3d0-77aeafa80700",
   "metadata": {
    "tags": []
   },
   "outputs": [
    {
     "name": "stdin",
     "output_type": "stream",
     "text": [
      "Press Enter to delete Index Endpoint, Index and Cloud Storage bucket: \n"
     ]
    },
    {
     "name": "stdout",
     "output_type": "stream",
     "text": [
      "Undeploying MatchingEngineIndexEndpoint index_endpoint: projects/26258447032/locations/us-central1/indexEndpoints/4912833457182212096\n",
      "Undeploy MatchingEngineIndexEndpoint index_endpoint backing LRO: projects/26258447032/locations/us-central1/indexEndpoints/4912833457182212096/operations/2197928176330473472\n",
      "MatchingEngineIndexEndpoint index_endpoint undeployed. Resource name: projects/26258447032/locations/us-central1/indexEndpoints/4912833457182212096\n",
      "Deleting MatchingEngineIndexEndpoint : projects/26258447032/locations/us-central1/indexEndpoints/4912833457182212096\n",
      "Delete MatchingEngineIndexEndpoint  backing LRO: projects/26258447032/locations/us-central1/indexEndpoints/4912833457182212096/operations/1657496221046013952\n",
      "MatchingEngineIndexEndpoint deleted. . Resource name: projects/26258447032/locations/us-central1/indexEndpoints/4912833457182212096\n",
      "Deleting MatchingEngineIndex : projects/26258447032/locations/us-central1/indexes/3487444175119450112\n",
      "Delete MatchingEngineIndex  backing LRO: projects/26258447032/locations/us-central1/indexes/3487444175119450112/operations/7470939652539547648\n",
      "MatchingEngineIndex deleted. . Resource name: projects/26258447032/locations/us-central1/indexes/3487444175119450112\n",
      "Removing gs://vertex-ai-poc-416620-vs-quickstart-03082027/product-embs.json#1709929846056111...\n",
      "/ [1 objects]                                                                   \n",
      "Operation completed over 1 objects.                                              \n",
      "Removing gs://vertex-ai-poc-416620-vs-quickstart-03082027/...\n"
     ]
    }
   ],
   "source": [
    "\n",
    "# wait for a confirmation\n",
    "input(\"Press Enter to delete Index Endpoint, Index and Cloud Storage bucket:\")\n",
    "\n",
    "# delete Index Endpoint\n",
    "my_index_endpoint.undeploy_all()\n",
    "my_index_endpoint.delete(force = True)\n",
    "\n",
    "# delete Index\n",
    "my_index.delete()\n",
    "\n",
    "# delete Cloud Storage bucket\n",
    "! gsutil rm -r {BUCKET_URI}"
   ]
  },
  {
   "cell_type": "code",
   "execution_count": null,
   "id": "54d74af5-1b6a-4f0d-b2b4-a4ffe1274ed4",
   "metadata": {},
   "outputs": [],
   "source": []
  }
 ],
 "metadata": {
  "environment": {
   "kernel": "python3",
   "name": "tf2-cpu.2-11.m118",
   "type": "gcloud",
   "uri": "us-docker.pkg.dev/deeplearning-platform-release/gcr.io/tf2-cpu.2-11:m118"
  },
  "kernelspec": {
   "display_name": "Python 3 (Local)",
   "language": "python",
   "name": "python3"
  },
  "language_info": {
   "codemirror_mode": {
    "name": "ipython",
    "version": 3
   },
   "file_extension": ".py",
   "mimetype": "text/x-python",
   "name": "python",
   "nbconvert_exporter": "python",
   "pygments_lexer": "ipython3",
   "version": "3.10.13"
  },
  "toc-autonumbering": true,
  "toc-showtags": true
 },
 "nbformat": 4,
 "nbformat_minor": 5
}
