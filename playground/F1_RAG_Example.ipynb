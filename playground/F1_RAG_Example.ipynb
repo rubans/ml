{
 "cells": [
  {
   "cell_type": "code",
   "execution_count": null,
   "id": "172f298e-39b0-4e0b-a03b-44b6fe56bc17",
   "metadata": {
    "tags": []
   },
   "outputs": [],
   "source": [
    "from langchain_openai import OpenAIEmbeddings\n",
    "from langchain.vectorstores.chroma import Chroma\n",
    "\n",
    "embeddings_model = OpenAIEmbeddings(model=\"text-embedding-ada-002\")\n",
    "docs_vectorstore = Chroma(\n",
    "    collection_name=\"docs_store\",\n",
    "    embedding_function=embeddings_model,\n",
    "    persist_directory=\"docs-db\",\n",
    ")"
   ]
  },
  {
   "cell_type": "code",
   "execution_count": null,
   "id": "5b81f447-0260-44c6-bad0-ac2c7e74dd80",
   "metadata": {
    "tags": []
   },
   "outputs": [],
   "source": [
    "!pip install langchain langchain-openai chromadb renumics-spotlight "
   ]
  },
  {
   "cell_type": "code",
   "execution_count": null,
   "id": "35633365-ff63-41fe-aeeb-9e9a4b631681",
   "metadata": {
    "tags": []
   },
   "outputs": [],
   "source": [
    "from langchain_community.document_loaders import BSHTMLLoader, DirectoryLoader\n",
    "loader = DirectoryLoader(\n",
    "    \"docs\",\n",
    "    glob=\"*.html\",\n",
    "    loader_cls=BSHTMLLoader,\n",
    "    loader_kwargs={\"open_encoding\": \"utf-8\"},\n",
    "    recursive=True,\n",
    "    show_progress=True,\n",
    ")\n",
    "docs = loader.load()"
   ]
  },
  {
   "cell_type": "code",
   "execution_count": null,
   "id": "84f583f8-2c96-4a0a-9fcd-2b11f24cdcb9",
   "metadata": {
    "tags": []
   },
   "outputs": [],
   "source": [
    "from langchain.text_splitter import RecursiveCharacterTextSplitter\n",
    "text_splitter = RecursiveCharacterTextSplitter(\n",
    "    chunk_size=1000, chunk_overlap=200, add_start_index=True\n",
    ")\n",
    "splits = text_splitter.split_documents(docs)"
   ]
  },
  {
   "cell_type": "code",
   "execution_count": null,
   "id": "59b44d42-8307-4193-b638-058c46f01f5a",
   "metadata": {
    "tags": []
   },
   "outputs": [],
   "source": [
    "print(len(splits))"
   ]
  },
  {
   "cell_type": "code",
   "execution_count": null,
   "id": "3c374b6e-118d-45b0-94ea-6169764ba13e",
   "metadata": {
    "tags": []
   },
   "outputs": [],
   "source": [
    "import hashlib\n",
    "import json\n",
    "import uuid\n",
    "from langchain_core.documents import Document\n",
    "\n",
    "def stable_hash(doc: Document) -> str:\n",
    "    \"\"\"\n",
    "    Stable hash document based on its metadata.\n",
    "    \"\"\"\n",
    "    return hashlib.sha1(json.dumps(doc.metadata, sort_keys=True).encode()).hexdigest()\n",
    "\n",
    "def generate_id(doc: Document) -> str:\n",
    "    return f\"id_{str(uuid.uuid4())}\"\n",
    "\n",
    "def batch_process(documents_arr, batch_size, process_function):     \n",
    "    for i in range(start, len(documents_arr), batch_size):         \n",
    "        batch = documents_arr[i:i + batch_size]    \n",
    "        print(f\"batch:{i}, batch_size:{len(batch)}\")\n",
    "        process_function(batch)  \n",
    "\n",
    "def add_to_chroma_database(splits):   \n",
    "    split_ids = list(map(generate_id, splits))\n",
    "    docs_vectorstore.add_documents(splits, ids=split_ids)\n",
    "    docs_vectorstore.persist()\n",
    "\n",
    "start = 0 # 4000-5000, 22000-23000\n",
    "batch_size = 1000\n",
    "batch_process(splits, batch_size, add_to_chroma_database) "
   ]
  },
  {
   "cell_type": "code",
   "execution_count": null,
   "id": "d405d94c-e69b-4ea3-85af-5cd8632b9780",
   "metadata": {
    "tags": []
   },
   "outputs": [],
   "source": [
    "#docs_vectorstore.persist()"
   ]
  },
  {
   "cell_type": "code",
   "execution_count": null,
   "id": "f4631334-b166-40d9-a771-3e233ea088ef",
   "metadata": {
    "tags": []
   },
   "outputs": [],
   "source": [
    "import json\n",
    "# Call the `count()` method on the collection\n",
    "query = \"Who built the Silverstone\"\n",
    "#docs = docs_vectorstore.get()['ids']\n",
    "print(\"count before\", docs_vectorstore._collection.count())\n",
    "#docs_vectorstore._collection.delete_collection()\n",
    "#print(f\"Number of documents in 'docs_store': {len(docs)}\")\n",
    "docs = docs_vectorstore.similarity_search(query=query)\n",
    "#print(json.dumps(docs,indent=4))\n",
    "docs"
   ]
  },
  {
   "cell_type": "code",
   "execution_count": null,
   "id": "d64a66b8-40fc-4c1e-821d-e38530677c5c",
   "metadata": {
    "tags": []
   },
   "outputs": [],
   "source": [
    "import chromadb\n",
    "from chromadb.utils import embedding_functions\n",
    "client = chromadb.PersistentClient(path=\"docs-db\")\n",
    "client.get_version()\n",
    "client.delete_collection(name=\"docs_store\") \n",
    "client.list_collections()\n",
    "print(len(collections))\n",
    "#collections = client.get()\n",
    "#collection = client.get_collection(name=\"docs_store\")\n",
    "\n",
    "# query_results = collection.query(\n",
    "#     query_texts=[query]\n",
    "# )\n"
   ]
  },
  {
   "cell_type": "code",
   "execution_count": null,
   "id": "69db373e-88a2-4c19-800f-eaf66fb94ef1",
   "metadata": {
    "tags": []
   },
   "outputs": [],
   "source": [
    "from langchain_openai import ChatOpenAI\n",
    "\n",
    "llm = ChatOpenAI(model=\"gpt-4\", temperature=0.0)\n",
    "retriever = docs_vectorstore.as_retriever(search_kwargs={\"k\": 20})"
   ]
  },
  {
   "cell_type": "code",
   "execution_count": null,
   "id": "7d6de488-5862-4fd0-a3df-ffa0ee27b604",
   "metadata": {
    "tags": []
   },
   "outputs": [],
   "source": [
    "from langchain_core.prompts import ChatPromptTemplate\n",
    "\n",
    "template = \"\"\"\n",
    "You are an assistant for question-answering tasks.\n",
    "Given the following extracted parts of a long document and a question, create a final answer with references (\"SOURCES\").\n",
    "If you don't know the answer, just say that you don't know. Don't try to make up an answer.\n",
    "ALWAYS return a \"SOURCES\" part in your answer.\n",
    "\n",
    "QUESTION: {question}\n",
    "=========\n",
    "{source_documents}\n",
    "=========\n",
    "FINAL ANSWER: \"\"\"\n",
    "prompt = ChatPromptTemplate.from_template(template)"
   ]
  },
  {
   "cell_type": "code",
   "execution_count": null,
   "id": "3966c3e4-8cd5-4635-b4a6-93c4ce559208",
   "metadata": {
    "tags": []
   },
   "outputs": [],
   "source": [
    "from typing import List\n",
    "\n",
    "from langchain_core.runnables import RunnableParallel, RunnablePassthrough\n",
    "from langchain_core.output_parsers import StrOutputParser\n",
    "\n",
    "\n",
    "def format_docs(docs: List[Document]) -> str:\n",
    "    return \"\\n\\n\".join(\n",
    "        f\"Content: {doc.page_content}\\nSource: {doc.metadata['source']}\" for doc in docs\n",
    "    )\n",
    "\n",
    "\n",
    "rag_chain_from_docs = (\n",
    "    RunnablePassthrough.assign(\n",
    "        source_documents=(lambda x: format_docs(x[\"source_documents\"]))\n",
    "    )\n",
    "    | prompt\n",
    "    | llm\n",
    "    | StrOutputParser()\n",
    ")\n",
    "rag_chain = RunnableParallel(\n",
    "    {\n",
    "        \"source_documents\": retriever,\n",
    "        \"question\": RunnablePassthrough(),\n",
    "    }\n",
    ").assign(answer=rag_chain_from_docs)"
   ]
  },
  {
   "cell_type": "code",
   "execution_count": null,
   "id": "de607a0a-f391-42c8-a7c5-eda70ff929f8",
   "metadata": {},
   "outputs": [],
   "source": [
    "question = \"which Circuits are from UK\"\n",
    "response = rag_chain.invoke(question)\n",
    "response[\"answer\"]"
   ]
  },
  {
   "cell_type": "code",
   "execution_count": null,
   "id": "43c1dd45-a5d9-4fe0-b041-fa91284033fb",
   "metadata": {},
   "outputs": [],
   "source": []
  }
 ],
 "metadata": {
  "environment": {
   "kernel": "conda-root-py",
   "name": "workbench-notebooks.m118",
   "type": "gcloud",
   "uri": "us-docker.pkg.dev/deeplearning-platform-release/gcr.io/workbench-notebooks:m118"
  },
  "kernelspec": {
   "display_name": "Python 3 (ipykernel)",
   "language": "python",
   "name": "conda-root-py"
  },
  "language_info": {
   "codemirror_mode": {
    "name": "ipython",
    "version": 3
   },
   "file_extension": ".py",
   "mimetype": "text/x-python",
   "name": "python",
   "nbconvert_exporter": "python",
   "pygments_lexer": "ipython3",
   "version": "3.10.13"
  }
 },
 "nbformat": 4,
 "nbformat_minor": 5
}
