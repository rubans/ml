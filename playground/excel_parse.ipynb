{
 "cells": [
  {
   "cell_type": "code",
   "execution_count": 33,
   "metadata": {},
   "outputs": [
    {
     "data": {
      "text/html": [
       "<div>\n",
       "<style scoped>\n",
       "    .dataframe tbody tr th:only-of-type {\n",
       "        vertical-align: middle;\n",
       "    }\n",
       "\n",
       "    .dataframe tbody tr th {\n",
       "        vertical-align: top;\n",
       "    }\n",
       "\n",
       "    .dataframe thead th {\n",
       "        text-align: right;\n",
       "    }\n",
       "</style>\n",
       "<table border=\"1\" class=\"dataframe\">\n",
       "  <thead>\n",
       "    <tr style=\"text-align: right;\">\n",
       "      <th></th>\n",
       "      <th>company_no</th>\n",
       "      <th>json</th>\n",
       "    </tr>\n",
       "  </thead>\n",
       "  <tbody>\n",
       "    <tr>\n",
       "      <th>0</th>\n",
       "      <td>A1B2C3</td>\n",
       "      <td>[{\\n    \"company_number\": \"A1B2C3\",\\n    \"name...</td>\n",
       "    </tr>\n",
       "    <tr>\n",
       "      <th>1</th>\n",
       "      <td>D4E5F6</td>\n",
       "      <td>[{\\n    \"company_number\": \"D4E5F6\",\\n    \"name...</td>\n",
       "    </tr>\n",
       "  </tbody>\n",
       "</table>\n",
       "</div>"
      ],
      "text/plain": [
       "  company_no                                               json\n",
       "0     A1B2C3  [{\\n    \"company_number\": \"A1B2C3\",\\n    \"name...\n",
       "1     D4E5F6  [{\\n    \"company_number\": \"D4E5F6\",\\n    \"name..."
      ]
     },
     "execution_count": 33,
     "metadata": {},
     "output_type": "execute_result"
    }
   ],
   "source": [
    "import pandas as pd\n",
    "\n",
    "# Replace 'your_file.xlsx' with your file path\n",
    "file_path = 'json.xlsx'\n",
    "df = pd.read_excel(file_path)\n",
    "\n",
    "# Display the DataFrame\n",
    "df.head()"
   ]
  },
  {
   "cell_type": "code",
   "execution_count": 34,
   "metadata": {},
   "outputs": [
    {
     "name": "stdout",
     "output_type": "stream",
     "text": [
      "A1B2C3\n",
      "D4E5F6\n",
      "  company_no                                               json  Is_Matched\n",
      "0     A1B2C3  [{\\n    \"company_number\": \"A1B2C3\",\\n    \"name...        True\n",
      "1     D4E5F6  [{\\n    \"company_number\": \"D4E5F6\",\\n    \"name...        True\n"
     ]
    }
   ],
   "source": [
    "import json\n",
    "\n",
    "# Parse JSON and filter rows where company_number matches\n",
    "def contains_company_number(json_array, target):\n",
    "    try:\n",
    "        # Parse JSON into a list of dictionaries\n",
    "        data = json.loads(json_array)\n",
    "        print(target)\n",
    "        # Ensure the parsed object is a list\n",
    "        if isinstance(data, list):\n",
    "            # Check if any dictionary in the list has the target company_number\n",
    "            return any(d.get(\"company_number\") == target for d in data)\n",
    "        return False\n",
    "    except (json.JSONDecodeError, TypeError):\n",
    "        return False  # Handle invalid JSON or non-JSON data\n",
    "\n",
    "# Apply the function to filter rows\n",
    "df[\"is_matched\"] = df.apply(lambda row: contains_company_number(row[\"json\"], row[\"company_no\"]), axis=1)\n",
    "\n",
    "# Output matching rows\n",
    "print(df)\n",
    "#print(df[\"json\"])\n"
   ]
  }
 ],
 "metadata": {
  "kernelspec": {
   "display_name": "Python 3",
   "language": "python",
   "name": "python3"
  },
  "language_info": {
   "codemirror_mode": {
    "name": "ipython",
    "version": 3
   },
   "file_extension": ".py",
   "mimetype": "text/x-python",
   "name": "python",
   "nbconvert_exporter": "python",
   "pygments_lexer": "ipython3",
   "version": "3.11.0"
  }
 },
 "nbformat": 4,
 "nbformat_minor": 2
}
