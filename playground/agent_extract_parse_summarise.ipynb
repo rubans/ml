{
 "cells": [
  {
   "cell_type": "markdown",
   "metadata": {},
   "source": [
    "# Install pip dependenices"
   ]
  },
  {
   "cell_type": "code",
   "execution_count": 58,
   "metadata": {},
   "outputs": [
    {
     "name": "stdout",
     "output_type": "stream",
     "text": [
      "Requirement already satisfied: autogen-agentchat==0.4.2 in c:\\users\\ruban\\appdata\\roaming\\python\\python311\\site-packages (0.4.2)\n",
      "Requirement already satisfied: autogen-core==0.4.2 in c:\\users\\ruban\\appdata\\roaming\\python\\python311\\site-packages (from autogen-agentchat==0.4.2) (0.4.2)\n",
      "Requirement already satisfied: jsonref~=1.1.0 in c:\\python311\\lib\\site-packages (from autogen-core==0.4.2->autogen-agentchat==0.4.2) (1.1.0)\n",
      "Requirement already satisfied: opentelemetry-api>=1.27.0 in c:\\python311\\lib\\site-packages (from autogen-core==0.4.2->autogen-agentchat==0.4.2) (1.29.0)\n",
      "Requirement already satisfied: pillow>=11.0.0 in c:\\python311\\lib\\site-packages (from autogen-core==0.4.2->autogen-agentchat==0.4.2) (11.1.0)\n",
      "Requirement already satisfied: protobuf~=4.25.1 in c:\\python311\\lib\\site-packages (from autogen-core==0.4.2->autogen-agentchat==0.4.2) (4.25.5)\n",
      "Requirement already satisfied: pydantic<3.0.0,>=2.10.0 in c:\\python311\\lib\\site-packages (from autogen-core==0.4.2->autogen-agentchat==0.4.2) (2.10.5)\n",
      "Requirement already satisfied: typing-extensions>=4.0.0 in c:\\python311\\lib\\site-packages (from autogen-core==0.4.2->autogen-agentchat==0.4.2) (4.12.2)\n",
      "Requirement already satisfied: deprecated>=1.2.6 in c:\\python311\\lib\\site-packages (from opentelemetry-api>=1.27.0->autogen-core==0.4.2->autogen-agentchat==0.4.2) (1.2.15)\n",
      "Requirement already satisfied: importlib-metadata<=8.5.0,>=6.0 in c:\\python311\\lib\\site-packages (from opentelemetry-api>=1.27.0->autogen-core==0.4.2->autogen-agentchat==0.4.2) (8.5.0)\n",
      "Requirement already satisfied: annotated-types>=0.6.0 in c:\\python311\\lib\\site-packages (from pydantic<3.0.0,>=2.10.0->autogen-core==0.4.2->autogen-agentchat==0.4.2) (0.7.0)\n",
      "Requirement already satisfied: pydantic-core==2.27.2 in c:\\python311\\lib\\site-packages (from pydantic<3.0.0,>=2.10.0->autogen-core==0.4.2->autogen-agentchat==0.4.2) (2.27.2)\n",
      "Requirement already satisfied: wrapt<2,>=1.10 in c:\\python311\\lib\\site-packages (from deprecated>=1.2.6->opentelemetry-api>=1.27.0->autogen-core==0.4.2->autogen-agentchat==0.4.2) (1.17.2)\n",
      "Requirement already satisfied: zipp>=3.20 in c:\\python311\\lib\\site-packages (from importlib-metadata<=8.5.0,>=6.0->opentelemetry-api>=1.27.0->autogen-core==0.4.2->autogen-agentchat==0.4.2) (3.21.0)\n",
      "Requirement already satisfied: PyMuPDF in c:\\python311\\lib\\site-packages (1.25.1)\n"
     ]
    }
   ],
   "source": [
    "!pip install autogen-agentchat==0.4.2 --user\n",
    "!pip install PyMuPDF --user"
   ]
  },
  {
   "cell_type": "code",
   "execution_count": 4,
   "metadata": {},
   "outputs": [
    {
     "name": "stdout",
     "output_type": "stream",
     "text": [
      "Saved output/PyMuPDF/outlier-or-laggard-divergence-and-convergence-in-the-uks-recent-inflation-performance/page_1.png\n",
      "Saved output/PyMuPDF/outlier-or-laggard-divergence-and-convergence-in-the-uks-recent-inflation-performance/page_2.png\n",
      "Saved output/PyMuPDF/outlier-or-laggard-divergence-and-convergence-in-the-uks-recent-inflation-performance/page_3.png\n",
      "Saved output/PyMuPDF/outlier-or-laggard-divergence-and-convergence-in-the-uks-recent-inflation-performance/page_4.png\n",
      "Saved output/PyMuPDF/outlier-or-laggard-divergence-and-convergence-in-the-uks-recent-inflation-performance/page_5.png\n",
      "Saved output/PyMuPDF/outlier-or-laggard-divergence-and-convergence-in-the-uks-recent-inflation-performance/page_6.png\n",
      "Saved output/PyMuPDF/outlier-or-laggard-divergence-and-convergence-in-the-uks-recent-inflation-performance/page_7.png\n",
      "Saved output/PyMuPDF/outlier-or-laggard-divergence-and-convergence-in-the-uks-recent-inflation-performance/page_8.png\n",
      "Saved output/PyMuPDF/outlier-or-laggard-divergence-and-convergence-in-the-uks-recent-inflation-performance/page_9.png\n",
      "Saved output/PyMuPDF/outlier-or-laggard-divergence-and-convergence-in-the-uks-recent-inflation-performance/page_10.png\n",
      "Saved output/PyMuPDF/outlier-or-laggard-divergence-and-convergence-in-the-uks-recent-inflation-performance/page_11.png\n",
      "Saved output/PyMuPDF/outlier-or-laggard-divergence-and-convergence-in-the-uks-recent-inflation-performance/page_12.png\n",
      "Saved output/PyMuPDF/outlier-or-laggard-divergence-and-convergence-in-the-uks-recent-inflation-performance/page_13.png\n",
      "Saved output/PyMuPDF/outlier-or-laggard-divergence-and-convergence-in-the-uks-recent-inflation-performance/page_14.png\n"
     ]
    }
   ],
   "source": [
    "pdf_path = \"original/outlier-or-laggard-divergence-and-convergence-in-the-uks-recent-inflation-performance.pdf\"\n",
    "output_dir = \"output/PyMuPDF/outlier-or-laggard-divergence-and-convergence-in-the-uks-recent-inflation-performance/\""
   ]
  },
  {
   "cell_type": "code",
   "execution_count": 15,
   "metadata": {},
   "outputs": [
    {
     "name": "stdout",
     "output_type": "stream",
     "text": [
      "processing page_1..\n",
      "processing page_2..\n",
      "processing page_3..\n",
      "processing page_4..\n",
      "processing page_5..\n",
      "processing page_6..\n",
      "processing page_7..\n",
      "processing page_8..\n",
      "processing page_9..\n",
      "processing page_10..\n",
      "processing page_11..\n",
      "processing page_12..\n",
      "processing page_13..\n",
      "processing page_14..\n",
      "Done!\n"
     ]
    }
   ],
   "source": [
    "from typing import AsyncGenerator, List, Sequence, Tuple\n",
    "\n",
    "from autogen_agentchat.agents import BaseChatAgent\n",
    "from autogen_agentchat.base import Response\n",
    "from autogen_agentchat.messages import AgentEvent, ChatMessage, TextMessage\n",
    "from autogen_core import CancellationToken\n",
    "\n",
    "\n",
    "class ConverPDFAgent(BaseChatAgent):\n",
    "    def __init__(self, name: str, input_path: str, output_path: str, zoom: float=2.0):\n",
    "        super().__init__(name, \"An agent that convers PDFs to Images.\")\n",
    "        self._input_path = input_path\n",
    "        self._output_path = output_path\n",
    "        self._zoom = zoom\n",
    "\n",
    "    @property\n",
    "    def produced_message_types(self) -> Sequence[type[ChatMessage]]:\n",
    "        return (TextMessage,)\n",
    "\n",
    "    async def on_messages(self, messages: Sequence[ChatMessage], cancellation_token: CancellationToken) -> Response:\n",
    "        # Calls the on_messages_stream.\n",
    "        response: Response | None = None\n",
    "        async for message in self.on_messages_stream(messages, cancellation_token):\n",
    "            if isinstance(message, Response):\n",
    "                response = message\n",
    "        assert response is not None\n",
    "        return response\n",
    "\n",
    "    async def on_messages_stream(\n",
    "        self, messages: Sequence[ChatMessage], cancellation_token: CancellationToken\n",
    "    ) -> AsyncGenerator[AgentEvent | ChatMessage | Response, None]:\n",
    "        inner_messages: List[AgentEvent | ChatMessage] = []\n",
    "        # for i in range(self._count, 0, -1):\n",
    "        #     msg = TextMessage(content=f\"{i}...\", source=self.name)\n",
    "        #     inner_messages.append(msg)\n",
    "        #     yield msg\n",
    "        with fitz.open(self._input_path) as pdf_document:\n",
    "            if not os.path.exists(self._output_path):\n",
    "                os.makedirs(self._output_path)\n",
    "            # Loop through each page in the PDF\n",
    "            for page_num in range(len(pdf_document)):\n",
    "                page = pdf_document[page_num]\n",
    "                # Zoom factor: higher zoom increases resolution\n",
    "                mat = fitz.Matrix(self._zoom, self._zoom)\n",
    "                pix = page.get_pixmap(matrix=mat)  # Render page to an image\n",
    "                # Save the image\n",
    "                output_file = os.path.join(self._output_path, f\"page_{page_num + 1}.png\")\n",
    "                pix.save(output_file)\n",
    "                msg = TextMessage(content=f\"processing page_{page_num + 1}..\", source=self.name)\n",
    "                inner_messages.append(msg)\n",
    "                yield msg\n",
    "        yield Response(chat_message=TextMessage(content=\"Done!\", source=self.name), inner_messages=inner_messages)\n",
    "\n",
    "    async def on_reset(self, cancellation_token: CancellationToken) -> None:\n",
    "        pass\n",
    "\n",
    "\n",
    "async def run_countdown_agent() -> None:\n",
    "    # Create a countdown agent.\n",
    "    countdown_agent = ConverPDFAgent(\"countdown\",pdf_path,output_dir)\n",
    "\n",
    "    # Run the agent with a given task and stream the response.\n",
    "    async for message in countdown_agent.on_messages_stream([], CancellationToken()):\n",
    "        if isinstance(message, Response):\n",
    "            print(message.chat_message.content)\n",
    "        else:\n",
    "            print(message.content)\n",
    "\n",
    "\n",
    "# Use asyncio.run(run_countdown_agent()) when running in a script.\n",
    "await run_countdown_agent()"
   ]
  },
  {
   "cell_type": "code",
   "execution_count": null,
   "metadata": {},
   "outputs": [],
   "source": []
  }
 ],
 "metadata": {
  "kernelspec": {
   "display_name": "Python 3",
   "language": "python",
   "name": "python3"
  },
  "language_info": {
   "codemirror_mode": {
    "name": "ipython",
    "version": 3
   },
   "file_extension": ".py",
   "mimetype": "text/x-python",
   "name": "python",
   "nbconvert_exporter": "python",
   "pygments_lexer": "ipython3",
   "version": "3.11.0"
  }
 },
 "nbformat": 4,
 "nbformat_minor": 2
}
